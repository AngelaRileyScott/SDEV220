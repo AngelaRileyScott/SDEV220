{
 "cells": [
  {
   "cell_type": "code",
   "execution_count": 1,
   "id": "47ad335f",
   "metadata": {},
   "outputs": [],
   "source": [
    "#3.1 How many seconds are in an hour?"
   ]
  },
  {
   "cell_type": "code",
   "execution_count": 2,
   "id": "69452f68",
   "metadata": {},
   "outputs": [
    {
     "name": "stdout",
     "output_type": "stream",
     "text": [
      "3600\n"
     ]
    }
   ],
   "source": [
    "hours = 1\n",
    "minutes = 60\n",
    "seconds = 60\n",
    "\n",
    "min_per_hour = hours * minutes\n",
    "#print (min_per_hour)\n",
    "sec_per_hour = min_per_hour * seconds\n",
    "print (sec_per_hour)"
   ]
  },
  {
   "cell_type": "code",
   "execution_count": 3,
   "id": "56727b0c",
   "metadata": {},
   "outputs": [],
   "source": [
    "#3.2 Assign the previous task to a variable."
   ]
  },
  {
   "cell_type": "code",
   "execution_count": 4,
   "id": "456248cf",
   "metadata": {},
   "outputs": [
    {
     "name": "stdout",
     "output_type": "stream",
     "text": [
      "There are 3600 seconds in one hour.\n"
     ]
    }
   ],
   "source": [
    "hours = 1\n",
    "minutes = 60\n",
    "seconds = 60\n",
    "\n",
    "min_per_hour = hours * minutes\n",
    "seconds_per_hour = min_per_hour * seconds\n",
    "print (\"There are\", seconds_per_hour, \"seconds in one hour.\")"
   ]
  },
  {
   "cell_type": "code",
   "execution_count": 5,
   "id": "99653f7a",
   "metadata": {},
   "outputs": [],
   "source": [
    "#3.3 - #3.4 How many seconds are in one day? The variable seconds_per_day is defined in this code block."
   ]
  },
  {
   "cell_type": "code",
   "execution_count": 6,
   "id": "0085848f",
   "metadata": {},
   "outputs": [
    {
     "name": "stdout",
     "output_type": "stream",
     "text": [
      "There are 86400 seconds in one day.\n"
     ]
    }
   ],
   "source": [
    "hours = 1\n",
    "minutes = 60\n",
    "seconds = 60\n",
    "hours_per_day = 24\n",
    "\n",
    "min_per_hour = hours * minutes\n",
    "seconds_per_hour = min_per_hour * seconds\n",
    "seconds_per_day = seconds_per_hour * hours_per_day\n",
    "print (\"There are\", seconds_per_day, \"seconds in one day.\")"
   ]
  },
  {
   "cell_type": "code",
   "execution_count": 7,
   "id": "ec368988",
   "metadata": {},
   "outputs": [],
   "source": [
    "#3.5 Divide seconds_per_day by seconds_per_hour"
   ]
  },
  {
   "cell_type": "code",
   "execution_count": 8,
   "id": "02e6c943",
   "metadata": {},
   "outputs": [
    {
     "name": "stdout",
     "output_type": "stream",
     "text": [
      "There are 24.0 hours in one day.\n"
     ]
    }
   ],
   "source": [
    "hours = 1\n",
    "minutes = 60\n",
    "seconds = 60\n",
    "hours_per_day = 24\n",
    "\n",
    "min_per_hour = hours * minutes\n",
    "seconds_per_hour = min_per_hour * seconds\n",
    "seconds_per_day = seconds_per_hour * hours_per_day\n",
    "\n",
    "divided_seconds_per_hour = seconds_per_day / seconds_per_hour\n",
    "print (\"There are\", divided_seconds_per_hour, \"hours in one day.\")"
   ]
  },
  {
   "cell_type": "code",
   "execution_count": 9,
   "id": "a26b28bb",
   "metadata": {},
   "outputs": [],
   "source": [
    "#3.6 Divide seconds_per_day by seconds_per_hour using interger division."
   ]
  },
  {
   "cell_type": "code",
   "execution_count": 10,
   "id": "f0f683b2",
   "metadata": {},
   "outputs": [
    {
     "name": "stdout",
     "output_type": "stream",
     "text": [
      "There are 24 hours in one day.\n"
     ]
    }
   ],
   "source": [
    "hours = 1\n",
    "minutes = 60\n",
    "seconds = 60\n",
    "hours_per_day = 24\n",
    "\n",
    "min_per_hour = hours * minutes\n",
    "seconds_per_hour = min_per_hour * seconds\n",
    "seconds_per_day = seconds_per_hour * hours_per_day\n",
    "\n",
    "divided_seconds_per_hour = seconds_per_day // seconds_per_hour\n",
    "print (\"There are\", divided_seconds_per_hour, \"hours in one day.\")"
   ]
  },
  {
   "cell_type": "code",
   "execution_count": 11,
   "id": "6af6dcd6",
   "metadata": {},
   "outputs": [],
   "source": [
    "#In item #3.5 there is a float point and decimal. In item #3.6 the decimal is removed."
   ]
  }
 ],
 "metadata": {
  "kernelspec": {
   "display_name": "Python 3 (ipykernel)",
   "language": "python",
   "name": "python3"
  },
  "language_info": {
   "codemirror_mode": {
    "name": "ipython",
    "version": 3
   },
   "file_extension": ".py",
   "mimetype": "text/x-python",
   "name": "python",
   "nbconvert_exporter": "python",
   "pygments_lexer": "ipython3",
   "version": "3.9.13"
  }
 },
 "nbformat": 4,
 "nbformat_minor": 5
}
