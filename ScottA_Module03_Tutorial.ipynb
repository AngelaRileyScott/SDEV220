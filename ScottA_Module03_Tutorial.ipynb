{
 "cells": [
  {
   "cell_type": "code",
   "execution_count": null,
   "id": "9132c69b",
   "metadata": {},
   "outputs": [],
   "source": [
    "#Geeks for Geeks Classes and Objects: Sort an Array"
   ]
  },
  {
   "cell_type": "code",
   "execution_count": 4,
   "id": "3d68f6f5",
   "metadata": {},
   "outputs": [
    {
     "name": "stdout",
     "output_type": "stream",
     "text": [
      "0 0 1 1 2 2 "
     ]
    }
   ],
   "source": [
    "class Solution:\n",
    "    #Function to sort an array of 0s, 1s, and 2s\n",
    "    def sort012(arr):\n",
    "        c0 = 0\n",
    "        c1 = 0\n",
    "        c2 = 0\n",
    "        \n",
    "        #Count 0s, 1s, and 2s\n",
    "        for num in arr:\n",
    "            if num == 0:\n",
    "                c0 += 1\n",
    "            elif num == 1:\n",
    "                c1 += 1\n",
    "            else:\n",
    "                c2 += 1\n",
    "            \n",
    "        idx = 0\n",
    "        \n",
    "        #Place all the 0s\n",
    "        for i in range(c0):\n",
    "            arr[idx] = 0\n",
    "            idx += 1\n",
    "            \n",
    "        #Place all the 1s\n",
    "        for i in range(c1):\n",
    "            arr[idx] = 1\n",
    "            idx += 1\n",
    "            \n",
    "        #Place all the 2s\n",
    "        for i in range(c2):\n",
    "            arr[idx] = 2\n",
    "            idx += 1\n",
    "            \n",
    "    arr = [0, 1, 2, 0, 1, 2]\n",
    "    sort012(arr)\n",
    "    \n",
    "    for x in arr:\n",
    "        print(x, end = \" \")"
   ]
  },
  {
   "cell_type": "code",
   "execution_count": null,
   "id": "076eba89",
   "metadata": {},
   "outputs": [],
   "source": [
    "#Geeks for Geeks: Binary Search"
   ]
  },
  {
   "cell_type": "code",
   "execution_count": 8,
   "id": "a97450df",
   "metadata": {},
   "outputs": [
    {
     "name": "stdout",
     "output_type": "stream",
     "text": [
      "Element is present at index 2\n"
     ]
    }
   ],
   "source": [
    "class Solution:\n",
    "    def binarysearch(arr, low, high, k):\n",
    "        while low <= high:\n",
    "            mid = low + (high-low) // 2\n",
    "            \n",
    "            if arr[mid] == k:\n",
    "                return mid\n",
    "                \n",
    "            elif arr[mid] < k:\n",
    "                low = mid+1\n",
    "                \n",
    "            else:\n",
    "                high = mid-1\n",
    "                \n",
    "        return -1\n",
    "        \n",
    "    if __name__ == '__main__':\n",
    "        #arr = [2, 3, 4, 10, 40]\n",
    "        #k = 10, This is the element\n",
    "        #arr = [1, 22, 33, 44, 55]\n",
    "        #k = 445\n",
    "        arr = [1, 1, 1, 1, 2]\n",
    "        k = 1\n",
    "    \n",
    "        result = binarysearch(arr, 0, len(arr)-1, k)\n",
    "        if result != -1:\n",
    "            print(\"Element is present at index\", result)\n",
    "        else:\n",
    "            print(\"Element is not present in array\")"
   ]
  }
 ],
 "metadata": {
  "kernelspec": {
   "display_name": "Python 3 (ipykernel)",
   "language": "python",
   "name": "python3"
  },
  "language_info": {
   "codemirror_mode": {
    "name": "ipython",
    "version": 3
   },
   "file_extension": ".py",
   "mimetype": "text/x-python",
   "name": "python",
   "nbconvert_exporter": "python",
   "pygments_lexer": "ipython3",
   "version": "3.9.13"
  }
 },
 "nbformat": 4,
 "nbformat_minor": 5
}
