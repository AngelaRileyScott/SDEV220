{
 "cells": [
  {
   "cell_type": "code",
   "execution_count": null,
   "id": "213015c1",
   "metadata": {},
   "outputs": [],
   "source": [
    "#7.4 Make a list"
   ]
  },
  {
   "cell_type": "code",
   "execution_count": 2,
   "id": "01a32f2b",
   "metadata": {},
   "outputs": [
    {
     "name": "stdout",
     "output_type": "stream",
     "text": [
      "mozzerella\n",
      "cinderella\n",
      "salmonella\n"
     ]
    }
   ],
   "source": [
    "things = [\"mozzerella\", \"cinderella\", \"salmonella\"]\n",
    "for thing in things:\n",
    "    print(thing)"
   ]
  },
  {
   "cell_type": "code",
   "execution_count": null,
   "id": "eb8390b6",
   "metadata": {},
   "outputs": [],
   "source": [
    "#7.5 Capitalize an item in the list"
   ]
  },
  {
   "cell_type": "code",
   "execution_count": 3,
   "id": "27f9e2f4",
   "metadata": {},
   "outputs": [
    {
     "name": "stdout",
     "output_type": "stream",
     "text": [
      "mozzerella\n",
      "Cinderella\n",
      "salmonella\n"
     ]
    }
   ],
   "source": [
    "things = [\"mozzerella\", \"cinderella\", \"salmonella\"]\n",
    "for thing in things:\n",
    "    things[1] = \"Cinderella\"\n",
    "    print(thing)"
   ]
  },
  {
   "cell_type": "code",
   "execution_count": null,
   "id": "135f60e5",
   "metadata": {},
   "outputs": [],
   "source": [
    "#7.5 (cont) By replacing the first item in the list, I was able to print a person's name with a capital letter."
   ]
  },
  {
   "cell_type": "code",
   "execution_count": null,
   "id": "b946632b",
   "metadata": {},
   "outputs": [],
   "source": [
    "#7.5 second attempt"
   ]
  },
  {
   "cell_type": "code",
   "execution_count": 13,
   "id": "6864502f",
   "metadata": {},
   "outputs": [
    {
     "name": "stdout",
     "output_type": "stream",
     "text": [
      "['mozzerella', 'Cinderella', 'salmonella']\n"
     ]
    }
   ],
   "source": [
    "things = [\"mozzerella\", \"cinderella\", \"salmonella\"]\n",
    "New_things = [item.capitalize() if i == 1 else item for i, item in enumerate(things)]\n",
    "print(New_things)"
   ]
  },
  {
   "cell_type": "code",
   "execution_count": null,
   "id": "7bc487d9",
   "metadata": {},
   "outputs": [],
   "source": [
    "#7.6 Change an element in a list"
   ]
  },
  {
   "cell_type": "code",
   "execution_count": 29,
   "id": "cdf47916",
   "metadata": {},
   "outputs": [
    {
     "name": "stdout",
     "output_type": "stream",
     "text": [
      "['MOZZERELLA', 'Cinderella', 'salmonella']\n"
     ]
    }
   ],
   "source": [
    "things = [\"mozzerella\", \"cinderella\", \"salmonella\"]\n",
    "Noun_things = [item.capitalize() if i == 1 else item for i, item in enumerate(things)]\n",
    "Cheese_things = [item.upper() if i == 0 else item for i, item in enumerate(Noun_things)]\n",
    "print(Cheese_things)"
   ]
  },
  {
   "cell_type": "code",
   "execution_count": null,
   "id": "432363a9",
   "metadata": {},
   "outputs": [],
   "source": [
    "#7.7 Delete an item from a list"
   ]
  },
  {
   "cell_type": "code",
   "execution_count": 32,
   "id": "97fcdd45",
   "metadata": {},
   "outputs": [
    {
     "name": "stdout",
     "output_type": "stream",
     "text": [
      "['MOZZERELLA', 'Cinderella']\n"
     ]
    }
   ],
   "source": [
    "things = [\"mozzerella\", \"cinderella\", \"salmonella\"]\n",
    "Noun_things = [item.capitalize() if i == 1 else item for i, item in enumerate(things)]\n",
    "Cheese_things = [item.upper() if i == 0 else item for i, item in enumerate(Noun_things)]\n",
    "del Cheese_things[2]\n",
    "print(Cheese_things)"
   ]
  },
  {
   "cell_type": "code",
   "execution_count": null,
   "id": "9bb472d2",
   "metadata": {},
   "outputs": [],
   "source": [
    "#9.1 Define a function and print a list"
   ]
  },
  {
   "cell_type": "code",
   "execution_count": 60,
   "id": "1aaa91a7",
   "metadata": {},
   "outputs": [
    {
     "name": "stdout",
     "output_type": "stream",
     "text": [
      "['Harry', 'Ron', 'Hermione']\n"
     ]
    }
   ],
   "source": [
    "def good():\n",
    "    good_list = [\"Harry\", \"Ron\", \"Hermione\"]\n",
    "    return good_list\n",
    "\n",
    "final_list = good()\n",
    "print(final_list)"
   ]
  },
  {
   "cell_type": "code",
   "execution_count": null,
   "id": "79598993",
   "metadata": {},
   "outputs": [],
   "source": [
    "#9.2 Define a generator function that returns the third odd number in a range of 10"
   ]
  },
  {
   "cell_type": "code",
   "execution_count": 82,
   "id": "ef9ba8d8",
   "metadata": {},
   "outputs": [
    {
     "name": "stdout",
     "output_type": "stream",
     "text": [
      "5\n"
     ]
    }
   ],
   "source": [
    "#i=1\n",
    "\n",
    "def get_odds():\n",
    "    for num in range(10):\n",
    "        if num % 2 != 0:\n",
    "            yield num\n",
    "            \n",
    "odds = get_odds()\n",
    "for i, odd_num in enumerate(odds, start=1):\n",
    "    if i == 3:\n",
    "        print (odd_num)\n",
    "        break\n"
   ]
  }
 ],
 "metadata": {
  "kernelspec": {
   "display_name": "Python 3 (ipykernel)",
   "language": "python",
   "name": "python3"
  },
  "language_info": {
   "codemirror_mode": {
    "name": "ipython",
    "version": 3
   },
   "file_extension": ".py",
   "mimetype": "text/x-python",
   "name": "python",
   "nbconvert_exporter": "python",
   "pygments_lexer": "ipython3",
   "version": "3.9.13"
  }
 },
 "nbformat": 4,
 "nbformat_minor": 5
}
