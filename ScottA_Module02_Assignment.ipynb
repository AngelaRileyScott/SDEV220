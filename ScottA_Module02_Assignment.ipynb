{
 "cells": [
  {
   "cell_type": "code",
   "execution_count": null,
   "id": "a4bf0364",
   "metadata": {},
   "outputs": [],
   "source": [
    "#4.1 Write a conditional test with (if, elif, and else)"
   ]
  },
  {
   "cell_type": "code",
   "execution_count": 7,
   "id": "1a757eed",
   "metadata": {},
   "outputs": [
    {
     "name": "stdout",
     "output_type": "stream",
     "text": [
      "Just right!\n"
     ]
    }
   ],
   "source": [
    "secret = 1\n",
    "guess = 1\n",
    "\n",
    "if secret < guess:\n",
    "    print (\"Too low.\")\n",
    "elif secret > guess:\n",
    "    print (\"Too high.\")\n",
    "else:\n",
    "    print (\"Just right!\")\n",
    "    "
   ]
  },
  {
   "cell_type": "code",
   "execution_count": null,
   "id": "71a514df",
   "metadata": {},
   "outputs": [],
   "source": [
    "#Assign true and false values to a variable"
   ]
  },
  {
   "cell_type": "code",
   "execution_count": 16,
   "id": "7d75d1fb",
   "metadata": {},
   "outputs": [
    {
     "name": "stdout",
     "output_type": "stream",
     "text": [
      "A watermelon does not meet the critera of small AND green.\n"
     ]
    }
   ],
   "source": [
    "#fruit = \"cherry\"\n",
    "#small = True\n",
    "#green = False\n",
    "\n",
    "#fruit = \"pea\"\n",
    "#small = True\n",
    "#green = True\n",
    "\n",
    "#fruit = \"pumpkin\"\n",
    "#small = False\n",
    "#green = False\n",
    "\n",
    "fruit = \"watermelon\"\n",
    "small = False\n",
    "green = True\n",
    "\n",
    "if small and green:\n",
    "    print (\"The\", fruit, \"is small and green.\")\n",
    "else:\n",
    "    print (\"A\", fruit, \"does not meet the critera of small AND green.\")"
   ]
  },
  {
   "cell_type": "code",
   "execution_count": null,
   "id": "d092ef90",
   "metadata": {},
   "outputs": [],
   "source": [
    "#6.1 Use a for loop to print a list in range [3,2,1,0]"
   ]
  },
  {
   "cell_type": "code",
   "execution_count": 19,
   "id": "5c8b24cd",
   "metadata": {},
   "outputs": [
    {
     "name": "stdout",
     "output_type": "stream",
     "text": [
      "3\n",
      "2\n",
      "1\n",
      "0\n"
     ]
    }
   ],
   "source": [
    "for my_list in range (3, -1, -1):\n",
    "    print (my_list)\n",
    "    "
   ]
  },
  {
   "cell_type": "code",
   "execution_count": null,
   "id": "7c22d4fc",
   "metadata": {},
   "outputs": [],
   "source": [
    "#6.2 Assign values and create a while loop"
   ]
  },
  {
   "cell_type": "code",
   "execution_count": 65,
   "id": "08952483",
   "metadata": {},
   "outputs": [
    {
     "name": "stdout",
     "output_type": "stream",
     "text": [
      "1  is too low\n",
      "2  is too low\n",
      "3  is too low\n",
      "4  is too low\n",
      "5  is too low\n",
      "6  is too low\n",
      "7 found it!\n"
     ]
    }
   ],
   "source": [
    "guess_me = 7\n",
    "number = 1\n",
    "\n",
    "while True:\n",
    "    if number < guess_me:\n",
    "        print (number, \" is too low\")\n",
    "    elif number == guess_me:\n",
    "        print (number, \"found it!\")\n",
    "        break\n",
    "    else:\n",
    "        print (\"oops\")\n",
    "    number += 1\n",
    "    "
   ]
  },
  {
   "cell_type": "code",
   "execution_count": null,
   "id": "e941a97d",
   "metadata": {},
   "outputs": [],
   "source": [
    "#6.3 Assign values and create a for loop"
   ]
  },
  {
   "cell_type": "code",
   "execution_count": 66,
   "id": "53f466bd",
   "metadata": {},
   "outputs": [
    {
     "name": "stdout",
     "output_type": "stream",
     "text": [
      "0 is too low\n",
      "1 is too low\n",
      "2 is too low\n",
      "3 is too low\n",
      "4 is too low\n",
      "5 found it!\n"
     ]
    }
   ],
   "source": [
    "guess_me = 5\n",
    "\n",
    "for number in range (10):\n",
    "    if number < guess_me:\n",
    "        print (number, \"is too low\")\n",
    "    elif number == guess_me:\n",
    "        print (number, \"found it!\")\n",
    "        break\n",
    "    else:\n",
    "        print(\"oops\")"
   ]
  }
 ],
 "metadata": {
  "kernelspec": {
   "display_name": "Python 3 (ipykernel)",
   "language": "python",
   "name": "python3"
  },
  "language_info": {
   "codemirror_mode": {
    "name": "ipython",
    "version": 3
   },
   "file_extension": ".py",
   "mimetype": "text/x-python",
   "name": "python",
   "nbconvert_exporter": "python",
   "pygments_lexer": "ipython3",
   "version": "3.9.13"
  }
 },
 "nbformat": 4,
 "nbformat_minor": 5
}
